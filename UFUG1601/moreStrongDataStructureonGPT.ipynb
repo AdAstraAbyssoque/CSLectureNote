{
 "cells": [
  {
   "cell_type": "markdown",
   "metadata": {},
   "source": [
    "# moreStrongDataStructureonGPT.ipynb\n",
    "\n",
    "- List Sorting\n",
    "- Recursive Idea\n",
    "    > functional programming\n",
    "- Modualization\n",
    "- Object oriented programming"
   ]
  },
  {
   "cell_type": "markdown",
   "metadata": {},
   "source": [
    "## Recap\n",
    "\n",
    "### Modulization\n",
    "\n",
    "Some kind of exam examples"
   ]
  },
  {
   "cell_type": "code",
   "execution_count": 17,
   "metadata": {},
   "outputs": [
    {
     "name": "stdout",
     "output_type": "stream",
     "text": [
      "4\n",
      "[5, 4, 3, 2, 1]\n",
      "[5, 4, 3, 2, 1]\n"
     ]
    }
   ],
   "source": [
    "#kind of python code to show the Modualization\n",
    "#11_24_1.py\n",
    "def find_max_index(l):\n",
    "    max_index = 0  \n",
    "    for i in range(0, len(l)):\n",
    "        if l[i] > l[max_index]:  \n",
    "            max_index = i\n",
    "    return max_index\n",
    "\n",
    "def max_sort(l):        \n",
    "    for i in range(0, len(l)):\n",
    "        max_index = find_max_index(l[i:]) + i\n",
    "        l[i], l[max_index] = l[max_index], l[i]\n",
    "    return l\n",
    "    #buggy\n",
    "\n",
    "def max_sort_recursive(l):\n",
    "    if len(l) == 1:\n",
    "        return l\n",
    "    max_index = find_max_index(l)\n",
    "    l[0], l[max_index] = l[max_index], l[0]\n",
    "    return l[:1] + max_sort_recursive(l[1:])\n",
    "\n",
    "sample_list = [1, 3, 2, 4, 5]\n",
    "print(find_max_index(sample_list))\n",
    "print(max_sort(sample_list))\n",
    "print(max_sort_recursive(sample_list))"
   ]
  },
  {
   "cell_type": "code",
   "execution_count": 19,
   "metadata": {},
   "outputs": [
    {
     "name": "stdout",
     "output_type": "stream",
     "text": [
      "[1, 3, 5, 49, 9]\n",
      "[90, 98, 100, 95, 99, 100]\n"
     ]
    }
   ],
   "source": [
    "#11_24_2.py\n",
    "def find_odd_numbers(l):\n",
    "    odd_numbers = []\n",
    "    for i in range(0, len(l)):\n",
    "        if l[i] % 2 == 1:\n",
    "            odd_numbers.append(l[i])\n",
    "    return odd_numbers\n",
    "\n",
    "def find_As(l):\n",
    "    As=[]\n",
    "    for score in l:\n",
    "        if score >= 90:\n",
    "            As.append(score)\n",
    "            \n",
    "    return As \n",
    "    \n",
    "sample_scores =[90,98,85,100,95,0,86,99,100,78]\n",
    "# List Comprehension\n",
    "print([score for score in sample_scores if score >= 90])\n",
    "\n",
    "sample_list_2 = [1, 2, 3,58, 4, 5, 6, 49, 8, 9, 10]\n",
    "print(find_odd_numbers(sample_list_2))\n",
    "print(find_As(sample_scores))"
   ]
  },
  {
   "cell_type": "code",
   "execution_count": 4,
   "metadata": {},
   "outputs": [
    {
     "name": "stdout",
     "output_type": "stream",
     "text": [
      "50\n"
     ]
    }
   ],
   "source": [
    "#11_24_3.py\n",
    "class room:\n",
    "    length = 0\n",
    "    breadth = 0\n",
    "    name = \"\"\n",
    "    \n",
    "    def __init__(self,name):\n",
    "        self.name = name\n",
    "    \n",
    "    def area(self):\n",
    "        return self.length * self. breadth\n",
    "\n",
    "    def _str_(self):\n",
    "        return\"Room name:\" + self.name +\", Area:\" + str(self.area())\n",
    "    \n",
    "    def _add_(self,other):\n",
    "        \n",
    "        return\n",
    "    \n",
    "study_room = room(\"Study Room\")\n",
    "study_room.length = 10\n",
    "study_room.breadth = 5\n",
    "print(study_room.area())\n"
   ]
  },
  {
   "cell_type": "code",
   "execution_count": null,
   "metadata": {},
   "outputs": [],
   "source": [
    "# define a superclass\n",
    "class super_class:\n",
    "    #attributes and method definition\n",
    "\n",
    "# inheritance\n",
    "class sub_class(super_class):\n",
    "    # attributes and method of super_class\n"
   ]
  },
  {
   "cell_type": "code",
   "execution_count": null,
   "metadata": {},
   "outputs": [],
   "source": [
    "import pprint"
   ]
  }
 ],
 "metadata": {
  "kernelspec": {
   "display_name": "Python 3",
   "language": "python",
   "name": "python3"
  },
  "language_info": {
   "codemirror_mode": {
    "name": "ipython",
    "version": 3
   },
   "file_extension": ".py",
   "mimetype": "text/x-python",
   "name": "python",
   "nbconvert_exporter": "python",
   "pygments_lexer": "ipython3",
   "version": "3.10.12"
  }
 },
 "nbformat": 4,
 "nbformat_minor": 2
}
